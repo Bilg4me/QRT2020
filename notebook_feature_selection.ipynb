{
 "cells": [
  {
   "cell_type": "markdown",
   "metadata": {},
   "source": [
    "# Data Features Selection\n",
    "This notebook is the base for features  selection\n",
    "## Used libraries"
   ]
  },
  {
   "cell_type": "code",
   "execution_count": 295,
   "metadata": {},
   "outputs": [],
   "source": [
    "import seaborn as sns\n",
    "import numpy as np\n",
    "import pandas as pd\n",
    "\n",
    "from xgboost import XGBClassifier\n",
    "from lightgbm import LGBMClassifier\n",
    "\n",
    "from sklearn.ensemble import RandomForestClassifier\n",
    "from sklearn.metrics import accuracy_score\n",
    "from sklearn.model_selection import KFold\n",
    "from sklearn.feature_selection import RFE, RFECV, SelectKBest, SelectFromModel, SelectPercentile, f_classif, chi2, mutual_info_classif\n",
    "from sklearn.pipeline import Pipeline\n",
    "from sklearn.impute import SimpleImputer"
   ]
  },
  {
   "cell_type": "markdown",
   "metadata": {},
   "source": [
    "## Loading data\n",
    "\n",
    "The train and test inputs are composed of 46 features.\n",
    "\n",
    "The target of this challenge is `RET` and corresponds to the fact that the **return is in the top 50% of highest stock returns**.\n",
    "\n",
    "Since the median is very close to 0, this information should not change much with the idea to predict the sign of the return."
   ]
  },
  {
   "cell_type": "code",
   "execution_count": null,
   "metadata": {},
   "outputs": [],
   "source": [
    "train = pd.read_csv('../train_extended.csv', index_col='ID')\n",
    "test = pd.read_csv('../test_extended.csv', index_col='ID')\n",
    "train.head()"
   ]
  },
  {
   "cell_type": "markdown",
   "metadata": {},
   "source": [
    "## Feature selection\n",
    "\n",
    "To reduce the number of feature (and the noise) we only consider the 5 last days of `RET` and `VOLUME` in addition to the newly created feature."
   ]
  },
  {
   "cell_type": "code",
   "execution_count": null,
   "metadata": {},
   "outputs": [],
   "source": [
    "target = 'RET'\n",
    "n_shifts = 5  # If you don't want all the shifts to reduce noise\n",
    "features = ['RET_%d' % (i + 1) for i in range(n_shifts)]\n",
    "features += ['VOLUME_%d' % (i + 1) for i in range(n_shifts)]\n",
    "#features += cat_features  # The categorical features if we want to use them\n",
    "train[features].head()"
   ]
  },
  {
   "cell_type": "code",
   "execution_count": null,
   "metadata": {},
   "outputs": [],
   "source": [
    "X,y = train[features], train[target]\n",
    "\n",
    "# Feature selection through prefit model and SelectFromModel\n",
    "model = RandomForestClassifier(n_estimators=500, max_depth=8,  n_jobs=-1, verbose=1)\n",
    "model.fit(X, y)\n",
    "\n",
    "# feature importance of the model\n",
    "importances = model.feature_importances_\n",
    "\n",
    "# plot the feature importances sorted\n",
    "indices = np.argsort(importances)[::-1]\n",
    "sns.barplot(x=importances[indices], y=X.columns[indices], orient='h')"
   ]
  },
  {
   "cell_type": "code",
   "execution_count": null,
   "metadata": {},
   "outputs": [],
   "source": [
    "# Select 40 features with SelectFromModel with the prefit model\n",
    "selector = SelectFromModel(model, max_features=40, prefit=True)\n",
    "selectedFeatures = X.columns[selector.get_support()]\n",
    "selectedFeatures"
   ]
  }
 ],
 "metadata": {
  "hide_input": false,
  "kernelspec": {
   "display_name": "Python 3",
   "language": "python",
   "name": "python3"
  },
  "language_info": {
   "codemirror_mode": {
    "name": "ipython",
    "version": 3
   },
   "file_extension": ".py",
   "mimetype": "text/x-python",
   "name": "python",
   "nbconvert_exporter": "python",
   "pygments_lexer": "ipython3",
   "version": "3.11.0"
  },
  "toc": {
   "base_numbering": 1,
   "nav_menu": {},
   "number_sections": true,
   "sideBar": true,
   "skip_h1_title": false,
   "title_cell": "Table of Contents",
   "title_sidebar": "Contents",
   "toc_cell": false,
   "toc_position": {},
   "toc_section_display": true,
   "toc_window_display": false
  }
 },
 "nbformat": 4,
 "nbformat_minor": 2
}
